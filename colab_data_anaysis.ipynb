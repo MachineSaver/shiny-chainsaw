from ipywidgets import interact
import json
import os
import plotly
import plotly.graph_objects as go

def setup_google_drive():
  from google.colab import drive
  drive.mount("/content/gdrive")

def clone_data_msgithub():
  ! git clone https://github.com/MachineSaver/shiny-chainsaw

def set_directory():
  %cd shiny-chainsaw/

def set_plotly_theme():
  import plotly.io as pio
  import plotly.express as px
  pio.templates["draft"] = go.layout.Template(
    layout_annotations=[
        dict(
            name="draft watermark",
            text="Machine Saver Inc.",
            textangle=-30,
            opacity=0.1,
            font=dict(color="white", size=50),
            xref="paper",
            yref="paper",
            x=0.5,
            y=0.5,
            showarrow=False,
        )
    ]
)
pio.templates.default = "plotly_dark+draft"

def axis_1_twf(file_1, file_2):
  axis = "Axis_1"
  with open(file_1) as a:
    data_a = json.load(a)

  with open(file_2) as b:
    data_b = json.load(b)
  
  fig = px.scatter(
    title="%s Time Waveform" % axis
    )
  fig.add_scatter(
    x=data_a["twf_x"],
    y=data_a["axis_1_TWF"],
    mode="lines",
    name=data_a["readable_timestamp"])
  fig.add_scatter(
    x=data_b["twf_x"],
    y=data_b["axis_1_TWF"],
    mode="lines",
    name=data_b["readable_timestamp"])
  return fig.show()

def main():
  setup_google_drive()
  clone_data_msgithub()
  set_directory()
  set_plotly_theme()
  interact(axis_1_twf, file_1=os.listdir(), file_2=os.listdir())
  # interact(axis_2_twf, file_1=os.listdir(), file_2=os.listdir())
  # interact(axis_3_twf, file_1=os.listdir(), file_2=os.listdir())
  # interact(axis_1_spec, file_1=os.listdir(), file_2=os.listdir())
  # interact(axis_2_spec, file_1=os.listdir(), file_2=os.listdir())
  # interact(axis_3_spec, file_1=os.listdir(), file_2=os.listdir())
  
if(__name__=="__main__"):
  main()
